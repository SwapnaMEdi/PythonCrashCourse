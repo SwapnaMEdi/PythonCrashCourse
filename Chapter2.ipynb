{
 "cells": [
  {
   "cell_type": "markdown",
   "id": "f4aca37f",
   "metadata": {},
   "source": [
    "# Chapter 2\n",
    "## Variable and Simple Data Types"
   ]
  },
  {
   "cell_type": "code",
   "execution_count": null,
   "id": "4814ae6a",
   "metadata": {},
   "outputs": [],
   "source": []
  },
  {
   "cell_type": "code",
   "execution_count": 4,
   "id": "d81ae88e",
   "metadata": {},
   "outputs": [
    {
     "name": "stdout",
     "output_type": "stream",
     "text": [
      "Hello World\n"
     ]
    }
   ],
   "source": [
    "# Variable\n",
    "message = \"Hello World\"\n",
    "print(message)"
   ]
  },
  {
   "cell_type": "code",
   "execution_count": 5,
   "id": "d62345c6",
   "metadata": {},
   "outputs": [
    {
     "data": {
      "text/plain": [
       "'abc-XYZ_'"
      ]
     },
     "execution_count": 5,
     "metadata": {},
     "output_type": "execute_result"
    }
   ],
   "source": [
    "# a-z,A-Z, 0-9, _\n",
    "text_1 = \"abc-XYZ_\"\n",
    "text_1"
   ]
  },
  {
   "cell_type": "code",
   "execution_count": 6,
   "id": "52471842",
   "metadata": {},
   "outputs": [
    {
     "data": {
      "text/plain": [
       "12"
      ]
     },
     "execution_count": 6,
     "metadata": {},
     "output_type": "execute_result"
    }
   ],
   "source": [
    "# Data Types\n",
    "# Numeric -Integer, Float ,String \n",
    "number_1 = 12\n",
    "number_1\n"
   ]
  },
  {
   "cell_type": "code",
   "execution_count": 7,
   "id": "5864dc84",
   "metadata": {},
   "outputs": [
    {
     "data": {
      "text/plain": [
       "int"
      ]
     },
     "execution_count": 7,
     "metadata": {},
     "output_type": "execute_result"
    }
   ],
   "source": [
    "type(number_1)"
   ]
  },
  {
   "cell_type": "code",
   "execution_count": 8,
   "id": "ae962eb0",
   "metadata": {},
   "outputs": [
    {
     "data": {
      "text/plain": [
       "1.505"
      ]
     },
     "execution_count": 8,
     "metadata": {},
     "output_type": "execute_result"
    }
   ],
   "source": [
    "number_2 = 1.505\n",
    "number_2"
   ]
  },
  {
   "cell_type": "code",
   "execution_count": 9,
   "id": "0497c57f",
   "metadata": {},
   "outputs": [
    {
     "data": {
      "text/plain": [
       "float"
      ]
     },
     "execution_count": 9,
     "metadata": {},
     "output_type": "execute_result"
    }
   ],
   "source": [
    "type(number_2)"
   ]
  },
  {
   "cell_type": "code",
   "execution_count": 10,
   "id": "9837cf7c",
   "metadata": {},
   "outputs": [
    {
     "data": {
      "text/plain": [
       "1"
      ]
     },
     "execution_count": 10,
     "metadata": {},
     "output_type": "execute_result"
    }
   ],
   "source": [
    "number_1,number_2,number_3=1,2,3\n",
    "number_1"
   ]
  },
  {
   "cell_type": "code",
   "execution_count": 11,
   "id": "2dc04065",
   "metadata": {},
   "outputs": [
    {
     "data": {
      "text/plain": [
       "3"
      ]
     },
     "execution_count": 11,
     "metadata": {},
     "output_type": "execute_result"
    }
   ],
   "source": [
    "number_3"
   ]
  },
  {
   "cell_type": "code",
   "execution_count": 12,
   "id": "cf84eae8",
   "metadata": {},
   "outputs": [],
   "source": [
    "number_1 , number_2 = number_2 , number_1\n"
   ]
  },
  {
   "cell_type": "code",
   "execution_count": 13,
   "id": "330bc30f",
   "metadata": {},
   "outputs": [
    {
     "data": {
      "text/plain": [
       "2"
      ]
     },
     "execution_count": 13,
     "metadata": {},
     "output_type": "execute_result"
    }
   ],
   "source": [
    "number_1"
   ]
  },
  {
   "cell_type": "code",
   "execution_count": 14,
   "id": "84a41e4a",
   "metadata": {},
   "outputs": [
    {
     "data": {
      "text/plain": [
       "2"
      ]
     },
     "execution_count": 14,
     "metadata": {},
     "output_type": "execute_result"
    }
   ],
   "source": [
    "number_1"
   ]
  },
  {
   "cell_type": "code",
   "execution_count": 15,
   "id": "38dfed9c",
   "metadata": {},
   "outputs": [
    {
     "data": {
      "text/plain": [
       "1"
      ]
     },
     "execution_count": 15,
     "metadata": {},
     "output_type": "execute_result"
    }
   ],
   "source": [
    "number_2"
   ]
  },
  {
   "cell_type": "code",
   "execution_count": 16,
   "id": "4875a198",
   "metadata": {},
   "outputs": [
    {
     "data": {
      "text/plain": [
       "3"
      ]
     },
     "execution_count": 16,
     "metadata": {},
     "output_type": "execute_result"
    }
   ],
   "source": [
    "#addition\n",
    "number_add= number_1 + number_2\n",
    "number_add"
   ]
  },
  {
   "cell_type": "code",
   "execution_count": 17,
   "id": "6ca3f100",
   "metadata": {},
   "outputs": [
    {
     "data": {
      "text/plain": [
       "1"
      ]
     },
     "execution_count": 17,
     "metadata": {},
     "output_type": "execute_result"
    }
   ],
   "source": [
    "#Subtraction\n",
    "number_sub = number_3 - number_1\n",
    "number_sub"
   ]
  },
  {
   "cell_type": "code",
   "execution_count": 19,
   "id": "7c2f524f",
   "metadata": {},
   "outputs": [
    {
     "data": {
      "text/plain": [
       "6"
      ]
     },
     "execution_count": 19,
     "metadata": {},
     "output_type": "execute_result"
    }
   ],
   "source": [
    "# Multiplication\n",
    "number_mul = number_3 * number_1\n",
    "number_mul"
   ]
  },
  {
   "cell_type": "code",
   "execution_count": 20,
   "id": "076e8b92",
   "metadata": {},
   "outputs": [
    {
     "data": {
      "text/plain": [
       "1.5"
      ]
     },
     "execution_count": 20,
     "metadata": {},
     "output_type": "execute_result"
    }
   ],
   "source": [
    "#Division\n",
    "number_div =number_3 / number_1\n",
    "number_div"
   ]
  },
  {
   "cell_type": "code",
   "execution_count": 21,
   "id": "b6337693",
   "metadata": {},
   "outputs": [
    {
     "data": {
      "text/plain": [
       "1"
      ]
     },
     "execution_count": 21,
     "metadata": {},
     "output_type": "execute_result"
    }
   ],
   "source": [
    "#Reminder\n",
    "number_rem = number_3 % number_1\n",
    "number_rem"
   ]
  },
  {
   "cell_type": "code",
   "execution_count": 22,
   "id": "778b1bb6",
   "metadata": {},
   "outputs": [
    {
     "data": {
      "text/plain": [
       "28.26"
      ]
     },
     "execution_count": 22,
     "metadata": {},
     "output_type": "execute_result"
    }
   ],
   "source": [
    "# Find Area of Circle\n",
    "r = 3\n",
    "pi = 3.14\n",
    "area = pi * (r**2)\n",
    "area"
   ]
  },
  {
   "cell_type": "code",
   "execution_count": 23,
   "id": "b039355c",
   "metadata": {},
   "outputs": [
    {
     "ename": "NameError",
     "evalue": "name 'mx' is not defined",
     "output_type": "error",
     "traceback": [
      "\u001b[1;31m---------------------------------------------------------------------------\u001b[0m",
      "\u001b[1;31mNameError\u001b[0m                                 Traceback (most recent call last)",
      "Cell \u001b[1;32mIn[23], line 5\u001b[0m\n\u001b[0;32m      3\u001b[0m x\u001b[38;5;241m=\u001b[39m \u001b[38;5;241m3\u001b[39m\n\u001b[0;32m      4\u001b[0m c\u001b[38;5;241m=\u001b[39m \u001b[38;5;241m5\u001b[39m\n\u001b[1;32m----> 5\u001b[0m y \u001b[38;5;241m=\u001b[39m \u001b[43mmx\u001b[49m\u001b[38;5;241m+\u001b[39mc\n\u001b[0;32m      6\u001b[0m y\n",
      "\u001b[1;31mNameError\u001b[0m: name 'mx' is not defined"
     ]
    }
   ],
   "source": [
    "# y = mx+c\n",
    "m = 1\n",
    "x= 3\n",
    "c= 5\n",
    "y = mx+c\n",
    "y"
   ]
  },
  {
   "cell_type": "code",
   "execution_count": 24,
   "id": "82f2c1a0",
   "metadata": {},
   "outputs": [
    {
     "data": {
      "text/plain": [
       "8"
      ]
     },
     "execution_count": 24,
     "metadata": {},
     "output_type": "execute_result"
    }
   ],
   "source": [
    "y= (m*x)+c\n",
    "y\n"
   ]
  },
  {
   "cell_type": "code",
   "execution_count": 25,
   "id": "e268260d",
   "metadata": {},
   "outputs": [],
   "source": [
    "# y = dependant variable\n",
    "# m = slope of line\n",
    "# x = independant variable\n",
    "# c = intercept\n",
    "\n"
   ]
  },
  {
   "cell_type": "code",
   "execution_count": 26,
   "id": "1d898d37",
   "metadata": {},
   "outputs": [
    {
     "data": {
      "text/plain": [
       "'Hello String'"
      ]
     },
     "execution_count": 26,
     "metadata": {},
     "output_type": "execute_result"
    }
   ],
   "source": [
    "#Strings\n",
    "s = \"Hello String\"\n",
    "s"
   ]
  },
  {
   "cell_type": "code",
   "execution_count": 27,
   "id": "c403b535",
   "metadata": {},
   "outputs": [
    {
     "data": {
      "text/plain": [
       "str"
      ]
     },
     "execution_count": 27,
     "metadata": {},
     "output_type": "execute_result"
    }
   ],
   "source": [
    "type(s)\n"
   ]
  },
  {
   "cell_type": "code",
   "execution_count": 28,
   "id": "d7ae63e9",
   "metadata": {},
   "outputs": [
    {
     "data": {
      "text/plain": [
       "'Hello String'"
      ]
     },
     "execution_count": 28,
     "metadata": {},
     "output_type": "execute_result"
    }
   ],
   "source": [
    "#Changing the Case (Upper to Lower and vice versa)\n",
    "s.lower\n",
    "s"
   ]
  },
  {
   "cell_type": "code",
   "execution_count": 29,
   "id": "242d1968",
   "metadata": {},
   "outputs": [
    {
     "data": {
      "text/plain": [
       "'Hello String'"
      ]
     },
     "execution_count": 29,
     "metadata": {},
     "output_type": "execute_result"
    }
   ],
   "source": [
    "s.lower()\n",
    "s"
   ]
  },
  {
   "cell_type": "code",
   "execution_count": 30,
   "id": "835ea378",
   "metadata": {},
   "outputs": [
    {
     "data": {
      "text/plain": [
       "'hello string'"
      ]
     },
     "execution_count": 30,
     "metadata": {},
     "output_type": "execute_result"
    }
   ],
   "source": [
    "s.lower()"
   ]
  },
  {
   "cell_type": "code",
   "execution_count": 31,
   "id": "31f5dd81",
   "metadata": {},
   "outputs": [
    {
     "data": {
      "text/plain": [
       "'hello string'"
      ]
     },
     "execution_count": 31,
     "metadata": {},
     "output_type": "execute_result"
    }
   ],
   "source": [
    "s_lower = s.lower()\n",
    "s_lower"
   ]
  },
  {
   "cell_type": "code",
   "execution_count": 32,
   "id": "0d733692",
   "metadata": {},
   "outputs": [
    {
     "data": {
      "text/plain": [
       "'HELLO STRING'"
      ]
     },
     "execution_count": 32,
     "metadata": {},
     "output_type": "execute_result"
    }
   ],
   "source": [
    "s.upper()"
   ]
  },
  {
   "cell_type": "code",
   "execution_count": 33,
   "id": "f7eafeb3",
   "metadata": {},
   "outputs": [],
   "source": [
    "s_upper = s.upper()"
   ]
  },
  {
   "cell_type": "code",
   "execution_count": 34,
   "id": "a73e0b40",
   "metadata": {},
   "outputs": [
    {
     "data": {
      "text/plain": [
       "'HELLO STRING'"
      ]
     },
     "execution_count": 34,
     "metadata": {},
     "output_type": "execute_result"
    }
   ],
   "source": [
    "s_upper"
   ]
  },
  {
   "cell_type": "code",
   "execution_count": 35,
   "id": "abd62935",
   "metadata": {},
   "outputs": [
    {
     "data": {
      "text/plain": [
       "'Hello String'"
      ]
     },
     "execution_count": 35,
     "metadata": {},
     "output_type": "execute_result"
    }
   ],
   "source": [
    "#Title\n",
    "s_title = s.title()\n",
    "s_title"
   ]
  },
  {
   "cell_type": "code",
   "execution_count": 37,
   "id": "51433f86",
   "metadata": {},
   "outputs": [
    {
     "ename": "TypeError",
     "evalue": "must be str, not int",
     "output_type": "error",
     "traceback": [
      "\u001b[1;31m---------------------------------------------------------------------------\u001b[0m",
      "\u001b[1;31mTypeError\u001b[0m                                 Traceback (most recent call last)",
      "Cell \u001b[1;32mIn[37], line 1\u001b[0m\n\u001b[1;32m----> 1\u001b[0m \u001b[43ms\u001b[49m\u001b[38;5;241;43m.\u001b[39;49m\u001b[43mcount\u001b[49m\u001b[43m(\u001b[49m\u001b[38;5;241;43m3\u001b[39;49m\u001b[43m)\u001b[49m\n",
      "\u001b[1;31mTypeError\u001b[0m: must be str, not int"
     ]
    }
   ],
   "source": [
    "s.\n"
   ]
  },
  {
   "cell_type": "code",
   "execution_count": 38,
   "id": "e6064aa5",
   "metadata": {},
   "outputs": [
    {
     "data": {
      "text/plain": [
       "0"
      ]
     },
     "execution_count": 38,
     "metadata": {},
     "output_type": "execute_result"
    }
   ],
   "source": [
    "s.count('s')"
   ]
  },
  {
   "cell_type": "code",
   "execution_count": 39,
   "id": "81ac6022",
   "metadata": {},
   "outputs": [
    {
     "data": {
      "text/plain": [
       "1"
      ]
     },
     "execution_count": 39,
     "metadata": {},
     "output_type": "execute_result"
    }
   ],
   "source": [
    "s.count('S')"
   ]
  },
  {
   "cell_type": "code",
   "execution_count": 40,
   "id": "1648c41e",
   "metadata": {},
   "outputs": [
    {
     "data": {
      "text/plain": [
       "'HeyHI'"
      ]
     },
     "execution_count": 40,
     "metadata": {},
     "output_type": "execute_result"
    }
   ],
   "source": [
    "#String Concatination\n",
    "s1 = \"HI\"\n",
    "s2 = \"Hey\"\n",
    "s3 = s2 + s1\n",
    "s3"
   ]
  },
  {
   "cell_type": "code",
   "execution_count": 41,
   "id": "9d87e734",
   "metadata": {},
   "outputs": [
    {
     "data": {
      "text/plain": [
       "'Hey HI'"
      ]
     },
     "execution_count": 41,
     "metadata": {},
     "output_type": "execute_result"
    }
   ],
   "source": [
    "s3 = s2+ ' ' + s1\n",
    "s3\n"
   ]
  },
  {
   "cell_type": "code",
   "execution_count": 43,
   "id": "29c712c1",
   "metadata": {},
   "outputs": [
    {
     "data": {
      "text/plain": [
       "'HI Hey 32'"
      ]
     },
     "execution_count": 43,
     "metadata": {},
     "output_type": "execute_result"
    }
   ],
   "source": [
    "# Type casting\n",
    "age = 32\n",
    "s4 = s1+' '+s2+ ' '+ str(age)\n",
    "s4\n"
   ]
  },
  {
   "cell_type": "code",
   "execution_count": 44,
   "id": "17b638cc",
   "metadata": {},
   "outputs": [
    {
     "data": {
      "text/plain": [
       "' this is year 1980'"
      ]
     },
     "execution_count": 44,
     "metadata": {},
     "output_type": "execute_result"
    }
   ],
   "source": [
    "# type casting with numeric to string\n",
    "year = 1980\n",
    "s5 = \" this is year \"\n",
    "s6 = s5 + str(year)\n",
    "s6\n"
   ]
  },
  {
   "cell_type": "code",
   "execution_count": 45,
   "id": "01cec20d",
   "metadata": {},
   "outputs": [
    {
     "data": {
      "text/plain": [
       "' Hello'"
      ]
     },
     "execution_count": 45,
     "metadata": {},
     "output_type": "execute_result"
    }
   ],
   "source": [
    "#Handling white spaces\n",
    "var1 = \" Hello \"\n",
    "var1.rstrip()"
   ]
  },
  {
   "cell_type": "code",
   "execution_count": 46,
   "id": "b4c61f54",
   "metadata": {},
   "outputs": [
    {
     "data": {
      "text/plain": [
       "'Hello '"
      ]
     },
     "execution_count": 46,
     "metadata": {},
     "output_type": "execute_result"
    }
   ],
   "source": [
    "var1.lstrip()"
   ]
  },
  {
   "cell_type": "code",
   "execution_count": 47,
   "id": "480c6e51",
   "metadata": {},
   "outputs": [
    {
     "data": {
      "text/plain": [
       "'Hello'"
      ]
     },
     "execution_count": 47,
     "metadata": {},
     "output_type": "execute_result"
    }
   ],
   "source": [
    "var1.strip()\n"
   ]
  },
  {
   "cell_type": "code",
   "execution_count": 48,
   "id": "f6045905",
   "metadata": {},
   "outputs": [
    {
     "name": "stdout",
     "output_type": "stream",
     "text": [
      "hello\n",
      "\thello\n",
      "\n",
      "hello\n"
     ]
    }
   ],
   "source": [
    "#Tabs and new lines\n",
    "print(\"hello\")\n",
    "print(\"\\thello\")\n",
    "print(\"\\nhello\")"
   ]
  },
  {
   "cell_type": "code",
   "execution_count": null,
   "id": "e93182a0",
   "metadata": {},
   "outputs": [],
   "source": [
    "# End of Day 2"
   ]
  },
  {
   "cell_type": "code",
   "execution_count": 1,
   "id": "c4818086",
   "metadata": {},
   "outputs": [
    {
     "data": {
      "text/plain": [
       "6"
      ]
     },
     "execution_count": 1,
     "metadata": {},
     "output_type": "execute_result"
    }
   ],
   "source": [
    "#Prctice of Day 2\n",
    "m1 = 1\n",
    "m2= 5\n",
    "m3 =m1 + m2\n",
    "m3"
   ]
  },
  {
   "cell_type": "code",
   "execution_count": 2,
   "id": "3570330c",
   "metadata": {},
   "outputs": [],
   "source": [
    "m1,m2 =m2,m1\n"
   ]
  },
  {
   "cell_type": "code",
   "execution_count": 3,
   "id": "d1484c45",
   "metadata": {},
   "outputs": [
    {
     "data": {
      "text/plain": [
       "5"
      ]
     },
     "execution_count": 3,
     "metadata": {},
     "output_type": "execute_result"
    }
   ],
   "source": [
    "m1"
   ]
  },
  {
   "cell_type": "code",
   "execution_count": 4,
   "id": "9a10b357",
   "metadata": {},
   "outputs": [
    {
     "data": {
      "text/plain": [
       "1"
      ]
     },
     "execution_count": 4,
     "metadata": {},
     "output_type": "execute_result"
    }
   ],
   "source": [
    "m2"
   ]
  },
  {
   "cell_type": "code",
   "execution_count": null,
   "id": "bd010c3b",
   "metadata": {},
   "outputs": [],
   "source": []
  }
 ],
 "metadata": {
  "kernelspec": {
   "display_name": "Python 3 (ipykernel)",
   "language": "python",
   "name": "python3"
  },
  "language_info": {
   "codemirror_mode": {
    "name": "ipython",
    "version": 3
   },
   "file_extension": ".py",
   "mimetype": "text/x-python",
   "name": "python",
   "nbconvert_exporter": "python",
   "pygments_lexer": "ipython3",
   "version": "3.10.9"
  }
 },
 "nbformat": 4,
 "nbformat_minor": 5
}
